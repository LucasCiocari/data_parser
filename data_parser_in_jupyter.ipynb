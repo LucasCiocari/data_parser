{
 "cells": [
  {
   "cell_type": "code",
   "execution_count": 97,
   "metadata": {},
   "outputs": [],
   "source": [
    "import numpy as np"
   ]
  },
  {
   "cell_type": "code",
   "execution_count": 98,
   "metadata": {},
   "outputs": [],
   "source": [
    "li = []\n",
    "with open('infos.dat', 'r') as file:\n",
    "    for line in file:\n",
    "        line = line.split('\\n')[0]\n",
    "        li.append(line.split('Ã§'))"
   ]
  },
  {
   "cell_type": "code",
   "execution_count": 99,
   "metadata": {},
   "outputs": [],
   "source": [
    "n_vendor = len([x for x in li if x[0] == '001'])\n",
    "n_clients = len([x for x in li if x[0] == '002'])\n",
    "sales = [x for x in li if x[0] == '003']"
   ]
  },
  {
   "cell_type": "code",
   "execution_count": 100,
   "metadata": {},
   "outputs": [],
   "source": [
    "newli = []\n",
    "sale_sum = 0\n",
    "for sale in sales:\n",
    "    sale[2] = sale[2].split('[')[1]\n",
    "    sale[2] = sale[2].split(']')[0]\n",
    "    sale[2] = sale[2].split(',')\n",
    "    for item in sale[2]: \n",
    "        item = item.split('-')\n",
    "        sale_sum += int(item[1])*float(item[2])\n",
    "    sale[2], sale_sum = sale_sum, 0\n",
    "    newli.append(sale)"
   ]
  },
  {
   "cell_type": "code",
   "execution_count": 101,
   "metadata": {},
   "outputs": [],
   "source": [
    "sale_max = newli[0]\n",
    "sale_min = newli[0]\n",
    "for sale in newli:\n",
    "    if(sale[2] > sale_max[2]):\n",
    "        sale_max = sale\n",
    "    if(sale[2] < sale_min[2]):\n",
    "        sale_min = sale"
   ]
  },
  {
   "cell_type": "code",
   "execution_count": 103,
   "metadata": {},
   "outputs": [
    {
     "name": "stdout",
     "output_type": "stream",
     "text": [
      "Pior vendedor: Paulo\n",
      "ID da melhor venda: 10\n",
      "Nro de vendedores: 2\n",
      "Nro de clientes: 2\n"
     ]
    }
   ],
   "source": [
    "print('Pior vendedor: ' + str(newli[newli.index(sale_min)][3]))\n",
    "print('ID da melhor venda: ' + str(newli[newli.index(sale_max)][1]))\n",
    "print('Nro de vendedores: ' + str(n_vendor))\n",
    "print('Nro de clientes: '+ str(n_clients))"
   ]
  },
  {
   "cell_type": "code",
   "execution_count": null,
   "metadata": {},
   "outputs": [],
   "source": []
  }
 ],
 "metadata": {
  "kernelspec": {
   "display_name": "Python 3",
   "language": "python",
   "name": "python3"
  },
  "language_info": {
   "codemirror_mode": {
    "name": "ipython",
    "version": 3
   },
   "file_extension": ".py",
   "mimetype": "text/x-python",
   "name": "python",
   "nbconvert_exporter": "python",
   "pygments_lexer": "ipython3",
   "version": "3.7.3"
  }
 },
 "nbformat": 4,
 "nbformat_minor": 2
}
